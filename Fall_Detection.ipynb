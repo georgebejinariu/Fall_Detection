{
  "nbformat": 4,
  "nbformat_minor": 0,
  "metadata": {
    "colab": {
      "name": "ML_Project.ipynb",
      "provenance": [],
      "collapsed_sections": []
    },
    "kernelspec": {
      "name": "python3",
      "display_name": "Python 3"
    },
    "language_info": {
      "name": "python"
    }
  },
  "cells": [
    {
      "cell_type": "markdown",
      "metadata": {
        "id": "OAoymCoHmo_L"
      },
      "source": [
        " VILLAR GARCIA Jessica Mariana\n",
        " \n",
        " BEJINARIU George \n",
        "# Machine Learning Project\n",
        "## Fall detection\n"
      ]
    },
    {
      "cell_type": "markdown",
      "metadata": {
        "id": "NI-PIVC-m1GH"
      },
      "source": [
        "The aim of this project is to study the ability of different classification models to detect fall thanks to some indicators.\n",
        "\n"
      ]
    },
    {
      "cell_type": "code",
      "metadata": {
        "id": "Lm1Wzmye3rjE"
      },
      "source": [
        "# Libraries \n",
        "import numpy as np\n",
        "import matplotlib.pyplot as plt\n",
        "import pandas as pd\n",
        "import warnings\n",
        "from sklearn.naive_bayes import GaussianNB\n",
        "from sklearn.discriminant_analysis import LinearDiscriminantAnalysis\n",
        "from sklearn.linear_model import LogisticRegression\n",
        "from sklearn.neighbors import KNeighborsClassifier\n",
        "from sklearn.model_selection import train_test_split\n",
        "from sklearn import metrics\n",
        "from sklearn.tree import DecisionTreeClassifier\n",
        "from sklearn.ensemble import BaggingClassifier\n",
        "from sklearn.ensemble import RandomForestClassifier\n",
        "from sklearn.model_selection import KFold\n",
        "from sklearn import model_selection\n",
        "from sklearn.metrics import roc_auc_score\n",
        "from sklearn.metrics import confusion_matrix\n",
        "from sklearn.metrics import balanced_accuracy_score\n",
        "from imblearn.ensemble import BalancedBaggingClassifier\n",
        "from sklearn.model_selection import StratifiedKFold\n",
        "from sklearn.model_selection import cross_val_score\n",
        "from imblearn.ensemble import BalancedBaggingClassifier\n",
        "from sklearn.model_selection import RepeatedStratifiedKFold\n",
        "from sklearn.model_selection import cross_val_score\n",
        "warnings.filterwarnings(\"ignore\")"
      ],
      "execution_count": null,
      "outputs": []
    },
    {
      "cell_type": "markdown",
      "metadata": {
        "id": "7D7OETuWn5ma"
      },
      "source": [
        "### The Data \n",
        "\n",
        "The dataset 'falldata' contains a sample of 2821 observations describing the walk of several people. The features correspond to 87 indicators computed on either the raw signals, the derivative of the signal or the energy of the signals. The response variable, fall or no fall, is described by a binary label. "
      ]
    },
    {
      "cell_type": "code",
      "metadata": {
        "id": "fGfBT0xG4HLz",
        "colab": {
          "resources": {
            "http://localhost:8080/nbextensions/google.colab/files.js": {
              "data": "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",
              "ok": true,
              "headers": [
                [
                  "content-type",
                  "application/javascript"
                ]
              ],
              "status": 200,
              "status_text": ""
            }
          },
          "base_uri": "https://localhost:8080/",
          "height": 73
        },
        "outputId": "202fafc6-7cd2-4582-b2cd-8e27263c1162"
      },
      "source": [
        "# Choose File to be uploaded (falldataproject.csv)\n",
        "from google.colab import files\n",
        "uploaded = files.upload()"
      ],
      "execution_count": null,
      "outputs": [
        {
          "output_type": "display_data",
          "data": {
            "text/html": [
              "\n",
              "     <input type=\"file\" id=\"files-42739058-2d46-4640-afab-ec5218cae6f5\" name=\"files[]\" multiple disabled\n",
              "        style=\"border:none\" />\n",
              "     <output id=\"result-42739058-2d46-4640-afab-ec5218cae6f5\">\n",
              "      Upload widget is only available when the cell has been executed in the\n",
              "      current browser session. Please rerun this cell to enable.\n",
              "      </output>\n",
              "      <script src=\"/nbextensions/google.colab/files.js\"></script> "
            ],
            "text/plain": [
              "<IPython.core.display.HTML object>"
            ]
          },
          "metadata": {}
        },
        {
          "output_type": "stream",
          "name": "stdout",
          "text": [
            "Saving falldataproject.csv to falldataproject.csv\n"
          ]
        }
      ]
    },
    {
      "cell_type": "code",
      "metadata": {
        "id": "j_FEw4RnW3SB"
      },
      "source": [
        "# Data set\n",
        "data = pd.read_csv('falldataproject.csv')\n",
        "y = data['FALL']\n",
        "x = data.iloc[:,1:-1]"
      ],
      "execution_count": null,
      "outputs": []
    },
    {
      "cell_type": "code",
      "metadata": {
        "colab": {
          "base_uri": "https://localhost:8080/",
          "height": 252
        },
        "id": "nC5M8ixgXNxh",
        "outputId": "30cfc3ce-4d97-4a2d-e6ec-bd8210b769f9"
      },
      "source": [
        "# Data set view\n",
        "# 87 indicators\n",
        "data.head()"
      ],
      "execution_count": null,
      "outputs": [
        {
          "output_type": "execute_result",
          "data": {
            "text/html": [
              "<div>\n",
              "<style scoped>\n",
              "    .dataframe tbody tr th:only-of-type {\n",
              "        vertical-align: middle;\n",
              "    }\n",
              "\n",
              "    .dataframe tbody tr th {\n",
              "        vertical-align: top;\n",
              "    }\n",
              "\n",
              "    .dataframe thead th {\n",
              "        text-align: right;\n",
              "    }\n",
              "</style>\n",
              "<table border=\"1\" class=\"dataframe\">\n",
              "  <thead>\n",
              "    <tr style=\"text-align: right;\">\n",
              "      <th></th>\n",
              "      <th>obs</th>\n",
              "      <th>raw_feat_X1</th>\n",
              "      <th>raw_feat_X2</th>\n",
              "      <th>raw_feat_X3</th>\n",
              "      <th>raw_feat_X4</th>\n",
              "      <th>raw_feat_X5</th>\n",
              "      <th>raw_feat_X6</th>\n",
              "      <th>raw_feat_X7</th>\n",
              "      <th>raw_feat_X8</th>\n",
              "      <th>raw_feat_X9</th>\n",
              "      <th>raw_feat_X10</th>\n",
              "      <th>raw_feat_X11</th>\n",
              "      <th>raw_feat_X12</th>\n",
              "      <th>raw_feat_X13</th>\n",
              "      <th>raw_feat_X14</th>\n",
              "      <th>raw_feat_X15</th>\n",
              "      <th>raw_feat_X16</th>\n",
              "      <th>raw_feat_X17</th>\n",
              "      <th>raw_feat_X18</th>\n",
              "      <th>raw_feat_X19</th>\n",
              "      <th>raw_feat_X20</th>\n",
              "      <th>raw_feat_X21</th>\n",
              "      <th>raw_feat_X22</th>\n",
              "      <th>raw_feat_X23</th>\n",
              "      <th>raw_feat_X24</th>\n",
              "      <th>raw_feat_X25</th>\n",
              "      <th>raw_feat_X26</th>\n",
              "      <th>raw_feat_X27</th>\n",
              "      <th>raw_feat_X28</th>\n",
              "      <th>raw_feat_X29</th>\n",
              "      <th>fft_feat_X1</th>\n",
              "      <th>fft_feat_X2</th>\n",
              "      <th>fft_feat_X3</th>\n",
              "      <th>fft_feat_X4</th>\n",
              "      <th>fft_feat_X5</th>\n",
              "      <th>fft_feat_X6</th>\n",
              "      <th>fft_feat_X7</th>\n",
              "      <th>fft_feat_X8</th>\n",
              "      <th>fft_feat_X9</th>\n",
              "      <th>fft_feat_X10</th>\n",
              "      <th>...</th>\n",
              "      <th>fft_feat_X20</th>\n",
              "      <th>fft_feat_X21</th>\n",
              "      <th>fft_feat_X22</th>\n",
              "      <th>fft_feat_X23</th>\n",
              "      <th>fft_feat_X24</th>\n",
              "      <th>fft_feat_X25</th>\n",
              "      <th>fft_feat_X26</th>\n",
              "      <th>fft_feat_X27</th>\n",
              "      <th>fft_feat_X28</th>\n",
              "      <th>fft_feat_X29</th>\n",
              "      <th>deriv_feat_X1</th>\n",
              "      <th>deriv_feat_X2</th>\n",
              "      <th>deriv_feat_X3</th>\n",
              "      <th>deriv_feat_X4</th>\n",
              "      <th>deriv_feat_X5</th>\n",
              "      <th>deriv_feat_X6</th>\n",
              "      <th>deriv_feat_X7</th>\n",
              "      <th>deriv_feat_X8</th>\n",
              "      <th>deriv_feat_X9</th>\n",
              "      <th>deriv_feat_X10</th>\n",
              "      <th>deriv_feat_X11</th>\n",
              "      <th>deriv_feat_X12</th>\n",
              "      <th>deriv_feat_X13</th>\n",
              "      <th>deriv_feat_X14</th>\n",
              "      <th>deriv_feat_X15</th>\n",
              "      <th>deriv_feat_X16</th>\n",
              "      <th>deriv_feat_X17</th>\n",
              "      <th>deriv_feat_X18</th>\n",
              "      <th>deriv_feat_X19</th>\n",
              "      <th>deriv_feat_X20</th>\n",
              "      <th>deriv_feat_X21</th>\n",
              "      <th>deriv_feat_X22</th>\n",
              "      <th>deriv_feat_X23</th>\n",
              "      <th>deriv_feat_X24</th>\n",
              "      <th>deriv_feat_X25</th>\n",
              "      <th>deriv_feat_X26</th>\n",
              "      <th>deriv_feat_X27</th>\n",
              "      <th>deriv_feat_X28</th>\n",
              "      <th>deriv_feat_X29</th>\n",
              "      <th>FALL</th>\n",
              "    </tr>\n",
              "  </thead>\n",
              "  <tbody>\n",
              "    <tr>\n",
              "      <th>0</th>\n",
              "      <td>0</td>\n",
              "      <td>0.249744</td>\n",
              "      <td>-0.162770</td>\n",
              "      <td>0.223727</td>\n",
              "      <td>0.393904</td>\n",
              "      <td>-0.154366</td>\n",
              "      <td>0.128968</td>\n",
              "      <td>1.090661</td>\n",
              "      <td>0.913849</td>\n",
              "      <td>0.505526</td>\n",
              "      <td>-0.105793</td>\n",
              "      <td>-0.195484</td>\n",
              "      <td>-0.583576</td>\n",
              "      <td>-0.185653</td>\n",
              "      <td>0.223045</td>\n",
              "      <td>0.003446</td>\n",
              "      <td>-0.103057</td>\n",
              "      <td>0.480750</td>\n",
              "      <td>0.781277</td>\n",
              "      <td>-0.119297</td>\n",
              "      <td>-0.994378</td>\n",
              "      <td>0.152711</td>\n",
              "      <td>0.114531</td>\n",
              "      <td>0.527218</td>\n",
              "      <td>0.684310</td>\n",
              "      <td>0.226488</td>\n",
              "      <td>0.214075</td>\n",
              "      <td>0.525904</td>\n",
              "      <td>-1.095983</td>\n",
              "      <td>1.919093</td>\n",
              "      <td>-0.449884</td>\n",
              "      <td>0.433748</td>\n",
              "      <td>0.463316</td>\n",
              "      <td>0.274141</td>\n",
              "      <td>-0.218774</td>\n",
              "      <td>-0.048435</td>\n",
              "      <td>-1.033262</td>\n",
              "      <td>-0.812810</td>\n",
              "      <td>-0.683375</td>\n",
              "      <td>-0.455641</td>\n",
              "      <td>...</td>\n",
              "      <td>0.517962</td>\n",
              "      <td>0.052870</td>\n",
              "      <td>0.000862</td>\n",
              "      <td>-0.152333</td>\n",
              "      <td>-0.152333</td>\n",
              "      <td>0.087599</td>\n",
              "      <td>0.083742</td>\n",
              "      <td>0.790298</td>\n",
              "      <td>1.111155</td>\n",
              "      <td>-0.184972</td>\n",
              "      <td>0.657302</td>\n",
              "      <td>-0.227088</td>\n",
              "      <td>-0.252275</td>\n",
              "      <td>-1.100050</td>\n",
              "      <td>-0.103071</td>\n",
              "      <td>0.237298</td>\n",
              "      <td>2.326422</td>\n",
              "      <td>2.364639</td>\n",
              "      <td>1.891086</td>\n",
              "      <td>0.052099</td>\n",
              "      <td>-0.103057</td>\n",
              "      <td>0.131791</td>\n",
              "      <td>-0.116826</td>\n",
              "      <td>0.419307</td>\n",
              "      <td>-1.299307</td>\n",
              "      <td>-0.093961</td>\n",
              "      <td>-0.709053</td>\n",
              "      <td>-1.045640</td>\n",
              "      <td>0.283405</td>\n",
              "      <td>-0.676243</td>\n",
              "      <td>0.121241</td>\n",
              "      <td>0.734862</td>\n",
              "      <td>0.179370</td>\n",
              "      <td>0.402461</td>\n",
              "      <td>0.638393</td>\n",
              "      <td>0.344236</td>\n",
              "      <td>0.823239</td>\n",
              "      <td>-0.409350</td>\n",
              "      <td>1.425206</td>\n",
              "      <td>1</td>\n",
              "    </tr>\n",
              "    <tr>\n",
              "      <th>1</th>\n",
              "      <td>1</td>\n",
              "      <td>0.385843</td>\n",
              "      <td>-0.660978</td>\n",
              "      <td>-0.127798</td>\n",
              "      <td>-0.205710</td>\n",
              "      <td>-0.160936</td>\n",
              "      <td>0.111606</td>\n",
              "      <td>0.171391</td>\n",
              "      <td>2.889781</td>\n",
              "      <td>0.377333</td>\n",
              "      <td>0.602582</td>\n",
              "      <td>-0.204411</td>\n",
              "      <td>-0.724876</td>\n",
              "      <td>-0.186407</td>\n",
              "      <td>0.510015</td>\n",
              "      <td>0.003446</td>\n",
              "      <td>-0.019068</td>\n",
              "      <td>-0.818148</td>\n",
              "      <td>-0.664431</td>\n",
              "      <td>0.376651</td>\n",
              "      <td>-0.626828</td>\n",
              "      <td>0.387287</td>\n",
              "      <td>1.476641</td>\n",
              "      <td>0.866832</td>\n",
              "      <td>0.959403</td>\n",
              "      <td>0.311288</td>\n",
              "      <td>0.449926</td>\n",
              "      <td>0.367252</td>\n",
              "      <td>-1.158551</td>\n",
              "      <td>1.778148</td>\n",
              "      <td>-0.646348</td>\n",
              "      <td>-0.355812</td>\n",
              "      <td>-0.491957</td>\n",
              "      <td>0.167070</td>\n",
              "      <td>-0.219944</td>\n",
              "      <td>-0.051636</td>\n",
              "      <td>-1.178882</td>\n",
              "      <td>-0.871564</td>\n",
              "      <td>-0.704800</td>\n",
              "      <td>-0.455712</td>\n",
              "      <td>...</td>\n",
              "      <td>0.815871</td>\n",
              "      <td>0.104235</td>\n",
              "      <td>-0.111211</td>\n",
              "      <td>-0.152333</td>\n",
              "      <td>-0.152333</td>\n",
              "      <td>-0.190016</td>\n",
              "      <td>-0.186805</td>\n",
              "      <td>0.791372</td>\n",
              "      <td>-0.610703</td>\n",
              "      <td>1.517499</td>\n",
              "      <td>0.563679</td>\n",
              "      <td>-0.710151</td>\n",
              "      <td>-0.252275</td>\n",
              "      <td>0.192193</td>\n",
              "      <td>-0.018958</td>\n",
              "      <td>0.483344</td>\n",
              "      <td>-2.196963</td>\n",
              "      <td>2.772897</td>\n",
              "      <td>-1.889601</td>\n",
              "      <td>0.071416</td>\n",
              "      <td>-0.019068</td>\n",
              "      <td>0.147795</td>\n",
              "      <td>-0.053961</td>\n",
              "      <td>0.648177</td>\n",
              "      <td>-0.214179</td>\n",
              "      <td>-0.005129</td>\n",
              "      <td>0.642421</td>\n",
              "      <td>0.419777</td>\n",
              "      <td>0.476751</td>\n",
              "      <td>0.549323</td>\n",
              "      <td>-0.182778</td>\n",
              "      <td>0.357499</td>\n",
              "      <td>-0.056181</td>\n",
              "      <td>0.840313</td>\n",
              "      <td>0.605672</td>\n",
              "      <td>0.655029</td>\n",
              "      <td>1.052671</td>\n",
              "      <td>-0.177353</td>\n",
              "      <td>1.613721</td>\n",
              "      <td>1</td>\n",
              "    </tr>\n",
              "    <tr>\n",
              "      <th>2</th>\n",
              "      <td>2</td>\n",
              "      <td>3.344528</td>\n",
              "      <td>-4.535931</td>\n",
              "      <td>0.165140</td>\n",
              "      <td>-0.228745</td>\n",
              "      <td>3.203818</td>\n",
              "      <td>3.379462</td>\n",
              "      <td>1.089901</td>\n",
              "      <td>2.097552</td>\n",
              "      <td>0.877990</td>\n",
              "      <td>0.200807</td>\n",
              "      <td>3.039838</td>\n",
              "      <td>0.706419</td>\n",
              "      <td>2.898928</td>\n",
              "      <td>3.938749</td>\n",
              "      <td>4.481602</td>\n",
              "      <td>3.694243</td>\n",
              "      <td>0.174268</td>\n",
              "      <td>-0.122291</td>\n",
              "      <td>5.761222</td>\n",
              "      <td>0.255291</td>\n",
              "      <td>-4.421517</td>\n",
              "      <td>4.881914</td>\n",
              "      <td>0.187604</td>\n",
              "      <td>0.330619</td>\n",
              "      <td>3.273877</td>\n",
              "      <td>3.834530</td>\n",
              "      <td>2.093866</td>\n",
              "      <td>-0.330219</td>\n",
              "      <td>3.147863</td>\n",
              "      <td>1.553830</td>\n",
              "      <td>-0.333388</td>\n",
              "      <td>-0.292473</td>\n",
              "      <td>3.390496</td>\n",
              "      <td>3.013265</td>\n",
              "      <td>3.155365</td>\n",
              "      <td>-1.071414</td>\n",
              "      <td>-0.834429</td>\n",
              "      <td>-0.692839</td>\n",
              "      <td>-0.455690</td>\n",
              "      <td>...</td>\n",
              "      <td>0.856455</td>\n",
              "      <td>0.149476</td>\n",
              "      <td>-0.106898</td>\n",
              "      <td>-0.152333</td>\n",
              "      <td>-0.152333</td>\n",
              "      <td>3.199629</td>\n",
              "      <td>3.220504</td>\n",
              "      <td>2.343403</td>\n",
              "      <td>-0.186892</td>\n",
              "      <td>2.891512</td>\n",
              "      <td>3.091500</td>\n",
              "      <td>-4.351699</td>\n",
              "      <td>-0.252275</td>\n",
              "      <td>-0.502388</td>\n",
              "      <td>3.694409</td>\n",
              "      <td>4.205189</td>\n",
              "      <td>-2.773949</td>\n",
              "      <td>2.276907</td>\n",
              "      <td>-2.030001</td>\n",
              "      <td>0.049545</td>\n",
              "      <td>3.694243</td>\n",
              "      <td>1.661714</td>\n",
              "      <td>3.342800</td>\n",
              "      <td>3.810750</td>\n",
              "      <td>4.777408</td>\n",
              "      <td>4.019151</td>\n",
              "      <td>0.529799</td>\n",
              "      <td>-0.779201</td>\n",
              "      <td>4.150327</td>\n",
              "      <td>-1.376566</td>\n",
              "      <td>0.425260</td>\n",
              "      <td>8.093449</td>\n",
              "      <td>-0.684318</td>\n",
              "      <td>0.046744</td>\n",
              "      <td>3.440332</td>\n",
              "      <td>3.965586</td>\n",
              "      <td>2.916183</td>\n",
              "      <td>0.367674</td>\n",
              "      <td>3.952479</td>\n",
              "      <td>1</td>\n",
              "    </tr>\n",
              "    <tr>\n",
              "      <th>3</th>\n",
              "      <td>3</td>\n",
              "      <td>3.190676</td>\n",
              "      <td>-2.884463</td>\n",
              "      <td>-1.153080</td>\n",
              "      <td>-0.698292</td>\n",
              "      <td>1.868221</td>\n",
              "      <td>2.493077</td>\n",
              "      <td>2.546198</td>\n",
              "      <td>3.817391</td>\n",
              "      <td>3.711000</td>\n",
              "      <td>2.382995</td>\n",
              "      <td>1.777882</td>\n",
              "      <td>1.274712</td>\n",
              "      <td>1.653909</td>\n",
              "      <td>3.174737</td>\n",
              "      <td>2.624805</td>\n",
              "      <td>2.059189</td>\n",
              "      <td>-0.701393</td>\n",
              "      <td>-0.664431</td>\n",
              "      <td>5.406974</td>\n",
              "      <td>0.108272</td>\n",
              "      <td>-2.193047</td>\n",
              "      <td>2.430117</td>\n",
              "      <td>-0.718033</td>\n",
              "      <td>-0.140969</td>\n",
              "      <td>3.179922</td>\n",
              "      <td>3.157377</td>\n",
              "      <td>1.748342</td>\n",
              "      <td>1.111691</td>\n",
              "      <td>1.082920</td>\n",
              "      <td>0.997529</td>\n",
              "      <td>-0.380522</td>\n",
              "      <td>-0.392840</td>\n",
              "      <td>2.490419</td>\n",
              "      <td>1.764962</td>\n",
              "      <td>2.313468</td>\n",
              "      <td>-1.063596</td>\n",
              "      <td>-0.834205</td>\n",
              "      <td>-0.693290</td>\n",
              "      <td>-0.455694</td>\n",
              "      <td>...</td>\n",
              "      <td>0.329103</td>\n",
              "      <td>0.064652</td>\n",
              "      <td>0.021450</td>\n",
              "      <td>-0.152333</td>\n",
              "      <td>-0.152333</td>\n",
              "      <td>2.114421</td>\n",
              "      <td>2.130555</td>\n",
              "      <td>2.085249</td>\n",
              "      <td>-0.324901</td>\n",
              "      <td>2.729675</td>\n",
              "      <td>3.512803</td>\n",
              "      <td>-3.106884</td>\n",
              "      <td>1.376255</td>\n",
              "      <td>-0.470082</td>\n",
              "      <td>2.059326</td>\n",
              "      <td>3.056140</td>\n",
              "      <td>-1.043750</td>\n",
              "      <td>3.002674</td>\n",
              "      <td>-1.003764</td>\n",
              "      <td>0.050335</td>\n",
              "      <td>2.059189</td>\n",
              "      <td>1.714366</td>\n",
              "      <td>1.816143</td>\n",
              "      <td>3.300994</td>\n",
              "      <td>0.436898</td>\n",
              "      <td>1.755185</td>\n",
              "      <td>1.092913</td>\n",
              "      <td>-1.178860</td>\n",
              "      <td>1.056790</td>\n",
              "      <td>-3.652617</td>\n",
              "      <td>-4.743065</td>\n",
              "      <td>-0.774592</td>\n",
              "      <td>-1.076903</td>\n",
              "      <td>-0.818687</td>\n",
              "      <td>3.572430</td>\n",
              "      <td>3.409429</td>\n",
              "      <td>2.407953</td>\n",
              "      <td>1.233629</td>\n",
              "      <td>2.702845</td>\n",
              "      <td>1</td>\n",
              "    </tr>\n",
              "    <tr>\n",
              "      <th>4</th>\n",
              "      <td>4</td>\n",
              "      <td>2.338575</td>\n",
              "      <td>-2.699941</td>\n",
              "      <td>-0.069211</td>\n",
              "      <td>-0.025849</td>\n",
              "      <td>1.420714</td>\n",
              "      <td>2.137326</td>\n",
              "      <td>1.097388</td>\n",
              "      <td>2.101987</td>\n",
              "      <td>1.200319</td>\n",
              "      <td>0.312032</td>\n",
              "      <td>1.317087</td>\n",
              "      <td>0.853486</td>\n",
              "      <td>1.177130</td>\n",
              "      <td>2.563528</td>\n",
              "      <td>1.751019</td>\n",
              "      <td>1.334773</td>\n",
              "      <td>-0.030053</td>\n",
              "      <td>-0.303004</td>\n",
              "      <td>1.439395</td>\n",
              "      <td>-2.097028</td>\n",
              "      <td>-3.483214</td>\n",
              "      <td>0.523164</td>\n",
              "      <td>-0.604828</td>\n",
              "      <td>-0.140969</td>\n",
              "      <td>2.354009</td>\n",
              "      <td>2.583982</td>\n",
              "      <td>1.714995</td>\n",
              "      <td>0.358674</td>\n",
              "      <td>1.877456</td>\n",
              "      <td>0.674087</td>\n",
              "      <td>-0.265912</td>\n",
              "      <td>-0.362163</td>\n",
              "      <td>2.088569</td>\n",
              "      <td>1.310543</td>\n",
              "      <td>1.947086</td>\n",
              "      <td>-1.074871</td>\n",
              "      <td>-0.838513</td>\n",
              "      <td>-0.694551</td>\n",
              "      <td>-0.455697</td>\n",
              "      <td>...</td>\n",
              "      <td>0.612221</td>\n",
              "      <td>0.147907</td>\n",
              "      <td>-0.087642</td>\n",
              "      <td>-0.152333</td>\n",
              "      <td>-0.152333</td>\n",
              "      <td>1.890474</td>\n",
              "      <td>1.904120</td>\n",
              "      <td>1.949577</td>\n",
              "      <td>-0.179936</td>\n",
              "      <td>2.429733</td>\n",
              "      <td>1.546721</td>\n",
              "      <td>-2.605242</td>\n",
              "      <td>1.376255</td>\n",
              "      <td>-0.389316</td>\n",
              "      <td>1.334903</td>\n",
              "      <td>2.413230</td>\n",
              "      <td>-3.414942</td>\n",
              "      <td>2.329030</td>\n",
              "      <td>-2.312024</td>\n",
              "      <td>0.054360</td>\n",
              "      <td>1.334773</td>\n",
              "      <td>1.334000</td>\n",
              "      <td>1.083955</td>\n",
              "      <td>2.146238</td>\n",
              "      <td>0.002846</td>\n",
              "      <td>1.273051</td>\n",
              "      <td>1.261847</td>\n",
              "      <td>-0.912421</td>\n",
              "      <td>-0.103287</td>\n",
              "      <td>-2.777213</td>\n",
              "      <td>-2.766941</td>\n",
              "      <td>0.168817</td>\n",
              "      <td>-1.116162</td>\n",
              "      <td>-1.640847</td>\n",
              "      <td>1.527936</td>\n",
              "      <td>2.215856</td>\n",
              "      <td>2.353429</td>\n",
              "      <td>0.721413</td>\n",
              "      <td>2.933661</td>\n",
              "      <td>1</td>\n",
              "    </tr>\n",
              "  </tbody>\n",
              "</table>\n",
              "<p>5 rows × 89 columns</p>\n",
              "</div>"
            ],
            "text/plain": [
              "   obs  raw_feat_X1  raw_feat_X2  ...  deriv_feat_X28  deriv_feat_X29  FALL\n",
              "0    0     0.249744    -0.162770  ...       -0.409350        1.425206     1\n",
              "1    1     0.385843    -0.660978  ...       -0.177353        1.613721     1\n",
              "2    2     3.344528    -4.535931  ...        0.367674        3.952479     1\n",
              "3    3     3.190676    -2.884463  ...        1.233629        2.702845     1\n",
              "4    4     2.338575    -2.699941  ...        0.721413        2.933661     1\n",
              "\n",
              "[5 rows x 89 columns]"
            ]
          },
          "metadata": {},
          "execution_count": 8
        }
      ]
    },
    {
      "cell_type": "markdown",
      "metadata": {
        "id": "QuWIJn-MI71x"
      },
      "source": [
        "#### Looking at the Data - The Imbalance\n",
        "\n",
        "We notice that there is a very big imbalance in our data. Only about 200 instances result in a fall. That means that if we design an algorithm which will always result in a \"no fall\" it will have a 92.83 % accuracy, which seems pretty good, but we know that this algorithm would be useless. Thus we have to find ways to deal with the data imbalance"
      ]
    },
    {
      "cell_type": "code",
      "metadata": {
        "colab": {
          "base_uri": "https://localhost:8080/"
        },
        "id": "6kyyKareIwfd",
        "outputId": "812af256-1c8f-4809-b7e1-dd73f272fd7e"
      },
      "source": [
        "print('Percentage of data labeled in a NO FALL: ', (1 - y.sum()/y.size)*100, '%')"
      ],
      "execution_count": null,
      "outputs": [
        {
          "output_type": "stream",
          "name": "stdout",
          "text": [
            "Percentage of data labeled in a NO FALL:  92.83941864587027 %\n"
          ]
        }
      ]
    },
    {
      "cell_type": "markdown",
      "metadata": {
        "id": "f5DciPtILgP4"
      },
      "source": [
        "#### Taking the Data imbalance into account\n",
        "\n",
        "The first thing that we can do is to look at model assessment measures other than accuracy. Alternatives are:\n",
        "\n",
        "*The confusion matrix - the matrix of true positives (TP), true negatives (TN), false positives (FP) and false negatives (FN).\n",
        "\n",
        "*Precision/Specificity: how many selected instances are relevant = TP/(TP+FP)\n",
        "\n",
        "*Recall/Sensitivity: how many relevant instances are selected = TP/(TP+FN)\n",
        "\n",
        "*F1 score: harmonic mean of precision and recall = the harmonic mean of precission and recall.\n",
        "\n",
        "*ROC curves and AUC\n",
        "\n",
        "Thus we will firstly construct some models using the original data and compare them using the previously mentioned metrics, which are more adapted than accuracy in this case.\n"
      ]
    },
    {
      "cell_type": "markdown",
      "metadata": {
        "id": "3gbEqvabOsMx"
      },
      "source": [
        "#### Which metrics is most relevant for our Project?\n",
        "\n",
        "In our case we are trying to predict falls. Knowing that a fall can have very bad consequences we really want to avoid misclassifying a fall as a 'no fall' and aren't as worried if we missclassify a 'no fall' as a fall. Thus, the most important metric is the true positive rate, or the recall. Thus, ROC curves and the AUCs might be of particular importance as they depend on the True Positive Rate and the False Positive Rate."
      ]
    },
    {
      "cell_type": "markdown",
      "metadata": {
        "id": "DU9EMtNwojua"
      },
      "source": [
        "### Training some models\n",
        "We will firstly train some models using the original data so we can compare them once we deal with the imbalance problem. "
      ]
    },
    {
      "cell_type": "markdown",
      "metadata": {
        "id": "tF4EIyJuoRF5"
      },
      "source": [
        "#### Train and Test data sets\n",
        "\n",
        "Test set 25%, Train set 75%"
      ]
    },
    {
      "cell_type": "code",
      "metadata": {
        "id": "4wJwTqXhidL4"
      },
      "source": [
        "x_train, x_test, y_train, y_test = train_test_split(x, y, test_size=1/4, random_state=0)"
      ],
      "execution_count": null,
      "outputs": []
    },
    {
      "cell_type": "code",
      "metadata": {
        "id": "9GxwEbQEZDnq"
      },
      "source": [
        "#Function to print the metrics\n",
        "def print_metrics(y, y_test):\n",
        "\n",
        "    tn, fp, fn, tp = confusion_matrix(y_test, y).ravel()\n",
        "    #specificity = tn / (tn + fp)\n",
        "    #fpr, tpr, thresholds = metrics.roc_curve(y_test, y, pos_label=2)\n",
        "    print(\"Accuracy=\",float(\"{:.4f}\".format(metrics.accuracy_score(y_test, y))),\n",
        "          \"\\nBalanced Accuracy =\",float(\"{:.4f}\".format(balanced_accuracy_score(y_test,y))),\n",
        "          \"\\nTP = \", tp, \"FP = \", fp, \"TN  = \", tn, \"FN = \", fn,\n",
        "      \"\\nPrecision=\",float(\"{:.4f}\".format(metrics.precision_score(y_test, y))),\n",
        "      \"\\nRecall=\",float(\"{:.4f}\".format(metrics.recall_score(y_test, y))), \n",
        "      #\"True Negaive Rate=\",float(\"{:.4f}\".format(specificity)),\n",
        "      \"\\nF1 Score=\",float(\"{:.4f}\".format(metrics.f1_score(y_test, y))),\n",
        "      \"\\nAUC=\",float(\"{:.4f}\".format(roc_auc_score(y_test, y))))\n",
        "      "
      ],
      "execution_count": null,
      "outputs": []
    },
    {
      "cell_type": "code",
      "metadata": {
        "id": "0IEBNVncFfOP"
      },
      "source": [
        "# Function to plot a boxplot for model comparison via cross validation for a given metric\n",
        "def box_cross_validation(metric_name, models_, classifiers_):\n",
        "    kfold = [StratifiedKFold(n_splits=10, shuffle=True, random_state=0) for i in range(len(models_))] # Stratified K Fold splits to preserve the original classes distribution\n",
        "    cv_scores = [cross_val_score(classifiers_[i], x, y, cv=kfold[i], scoring=metric_name) for i in range(len(models_))]\n",
        "\n",
        "    fig = plt.figure(figsize=(6, 3.5))\n",
        "    fig.suptitle('Model Comparison')\n",
        "    ax = fig.add_subplot()\n",
        "    plt.boxplot(cv_scores)\n",
        "    ax.set(ylabel=metric_name)\n",
        "    ax.set_xticklabels(models_)"
      ],
      "execution_count": null,
      "outputs": []
    },
    {
      "cell_type": "markdown",
      "metadata": {
        "id": "D2BZsniUor4V"
      },
      "source": [
        "#### Naive Bayes Model:"
      ]
    },
    {
      "cell_type": "code",
      "metadata": {
        "colab": {
          "base_uri": "https://localhost:8080/"
        },
        "id": "mPyy7F2JogPq",
        "outputId": "95403e22-1d57-4f11-9406-e1672c0c6d4c"
      },
      "source": [
        "gnb = GaussianNB()\n",
        "gnbfit = gnb.fit(x_train, y_train)\n",
        "y_bayes = gnbfit.predict(x_test)\n",
        "\n",
        "# Metrics \n",
        "print_metrics(y_bayes, y_test)"
      ],
      "execution_count": null,
      "outputs": [
        {
          "output_type": "stream",
          "name": "stdout",
          "text": [
            "Accuracy= 0.9547 \n",
            "Balanced Accuracy = 0.9362 \n",
            "TP =  43 FP =  28 TN  =  631 FN =  4 \n",
            "Precision= 0.6056 \n",
            "Recall= 0.9149 \n",
            "F1 Score= 0.7288 \n",
            "AUC= 0.9362\n"
          ]
        }
      ]
    },
    {
      "cell_type": "markdown",
      "metadata": {
        "id": "Z3bthY3a_ZpR"
      },
      "source": [
        "### Looking at the metrics\n",
        "\n",
        "We observe that the precision is far away from 1, which means the model does missclassifies a lot of negative samples, resulting in many false positives."
      ]
    },
    {
      "cell_type": "markdown",
      "metadata": {
        "id": "tkLZ8bUYpHLD"
      },
      "source": [
        "#### Linear Discriminant Analysis"
      ]
    },
    {
      "cell_type": "code",
      "metadata": {
        "colab": {
          "base_uri": "https://localhost:8080/"
        },
        "id": "ESSIZOSqovwk",
        "outputId": "cde563a0-140a-4c13-ce7f-c3d43dd2f20d"
      },
      "source": [
        "lda = LinearDiscriminantAnalysis();\n",
        "ldafit=lda.fit(x_train,y_train)\n",
        "y_lda = ldafit.predict(x_test)\n",
        "\n",
        "# Metrics \n",
        "print_metrics(y_lda,y_test)"
      ],
      "execution_count": null,
      "outputs": [
        {
          "output_type": "stream",
          "name": "stdout",
          "text": [
            "Accuracy= 0.9873 \n",
            "Balanced Accuracy = 0.9141 \n",
            "TP =  39 FP =  1 TN  =  658 FN =  8 \n",
            "Precision= 0.975 \n",
            "Recall= 0.8298 \n",
            "F1 Score= 0.8966 \n",
            "AUC= 0.9141\n"
          ]
        }
      ]
    },
    {
      "cell_type": "markdown",
      "metadata": {
        "id": "d-HbZ6qmBKMc"
      },
      "source": [
        "## Comment on the metrics\n",
        "\n",
        "LDA does a better job in avoiding false positives, but it results in more false negatives, which gives it a worse recall."
      ]
    },
    {
      "cell_type": "markdown",
      "metadata": {
        "id": "229BL31QpVpU"
      },
      "source": [
        "#### Logistic Regression"
      ]
    },
    {
      "cell_type": "code",
      "metadata": {
        "colab": {
          "base_uri": "https://localhost:8080/"
        },
        "id": "zDbl49JYpXA0",
        "outputId": "18e701ac-e03c-4f5b-8a6e-35f2a983ec36"
      },
      "source": [
        "logr = LogisticRegression(solver=\"lbfgs\")\n",
        "logrfit= logr.fit(x_train,y_train)\n",
        "y_logr = logrfit.predict(x_test)\n",
        "\n",
        "# Metrics \n",
        "print_metrics(y_logr,y_test)"
      ],
      "execution_count": null,
      "outputs": [
        {
          "output_type": "stream",
          "name": "stdout",
          "text": [
            "Accuracy= 0.9887 \n",
            "Balanced Accuracy = 0.9347 \n",
            "TP =  41 FP =  2 TN  =  657 FN =  6 \n",
            "Precision= 0.9535 \n",
            "Recall= 0.8723 \n",
            "F1 Score= 0.9111 \n",
            "AUC= 0.9347\n"
          ]
        }
      ]
    },
    {
      "cell_type": "markdown",
      "metadata": {
        "id": "aER8VxlTEVzk"
      },
      "source": [
        "## Comment on the metrics results\n",
        "\n",
        "This is the highest F1 score so far"
      ]
    },
    {
      "cell_type": "markdown",
      "metadata": {
        "id": "J7bgzhTPpfR0"
      },
      "source": [
        "#### KNN"
      ]
    },
    {
      "cell_type": "code",
      "metadata": {
        "colab": {
          "base_uri": "https://localhost:8080/"
        },
        "id": "nxotUSKXpmmN",
        "outputId": "ef2be268-3cce-4d82-94d3-73f78295b0b1"
      },
      "source": [
        "# To choose a k we'll use a validation set \n",
        "x_train1, x_vald, y_train1, y_vald = train_test_split(x_train, y_train, test_size=0.20, random_state=0)\n",
        "knn = [KNeighborsClassifier(n_neighbors = i+1) for i in range(10)]\n",
        "knnfit = [knn[i].fit(x_train1,y_train1) for i in range(10)]\n",
        "y_knn = [knnfit[i].predict(x_vald) for i in range(10)]\n",
        "k = [metrics.f1_score(y_vald, y_knn[i]) for i in range(10)]\n",
        "np.where(k == np.amax(k))"
      ],
      "execution_count": null,
      "outputs": [
        {
          "output_type": "execute_result",
          "data": {
            "text/plain": [
              "(array([1, 3, 5, 6, 7, 8, 9]),)"
            ]
          },
          "metadata": {},
          "execution_count": 18
        }
      ]
    },
    {
      "cell_type": "code",
      "metadata": {
        "colab": {
          "base_uri": "https://localhost:8080/"
        },
        "id": "1_IJKfz0pqmo",
        "outputId": "48b05238-7ebb-4296-d3d8-d2c070634a1c"
      },
      "source": [
        "# We know train the classifier with the original training set\n",
        "knn = KNeighborsClassifier(n_neighbors = 4)\n",
        "knnfit = knn.fit(x_train,y_train)\n",
        "y_knn = knnfit.predict(x_test)\n",
        "\n",
        "# Metrics \n",
        "print_metrics(y_knn,y_test)"
      ],
      "execution_count": null,
      "outputs": [
        {
          "output_type": "stream",
          "name": "stdout",
          "text": [
            "Accuracy= 0.9873 \n",
            "Balanced Accuracy = 0.9043 \n",
            "TP =  38 FP =  0 TN  =  659 FN =  9 \n",
            "Precision= 1.0 \n",
            "Recall= 0.8085 \n",
            "F1 Score= 0.8941 \n",
            "AUC= 0.9043\n"
          ]
        }
      ]
    },
    {
      "cell_type": "markdown",
      "metadata": {
        "id": "lS-qXVNSprgd"
      },
      "source": [
        "We obtain a 100% precision, that is, the model does not classify false positive samples. However, it still predicts false negatives."
      ]
    },
    {
      "cell_type": "markdown",
      "metadata": {
        "id": "3PfVtuxhp0nr"
      },
      "source": [
        "#### Decision Tree"
      ]
    },
    {
      "cell_type": "code",
      "metadata": {
        "colab": {
          "base_uri": "https://localhost:8080/"
        },
        "id": "aK6vvFTYqYtU",
        "outputId": "a21c1998-ffb5-4eec-a635-3dccaa24b281"
      },
      "source": [
        "tree = DecisionTreeClassifier(random_state=0)\n",
        "treefit = tree.fit(x_train, y_train)\n",
        "pred_tree = treefit.predict_proba(x_test)\n",
        "y_tree = np.argmax(pred_tree, axis=1)\n",
        "\n",
        "# Metrics \n",
        "print_metrics(y_tree,y_test)"
      ],
      "execution_count": null,
      "outputs": [
        {
          "output_type": "stream",
          "name": "stdout",
          "text": [
            "Accuracy= 0.9844 \n",
            "Balanced Accuracy = 0.9126 \n",
            "TP =  39 FP =  3 TN  =  656 FN =  8 \n",
            "Precision= 0.9286 \n",
            "Recall= 0.8298 \n",
            "F1 Score= 0.8764 \n",
            "AUC= 0.9126\n"
          ]
        }
      ]
    },
    {
      "cell_type": "markdown",
      "metadata": {
        "id": "vjjRMXifreNt"
      },
      "source": [
        "#### Bagging"
      ]
    },
    {
      "cell_type": "code",
      "metadata": {
        "colab": {
          "base_uri": "https://localhost:8080/"
        },
        "id": "XcXSRj3KriOq",
        "outputId": "27311fa4-0a7c-48f6-c121-2d1b6d5457e9"
      },
      "source": [
        "treebag = DecisionTreeClassifier(random_state=0)\n",
        "bagmod = BaggingClassifier(base_estimator=treebag)\n",
        "bagfit = bagmod.fit(x_train, y_train)\n",
        "\n",
        "pred_bag = bagfit.predict_proba(x_test)\n",
        "y_bag = np.argmax(pred_bag,axis = 1)\n",
        "\n",
        "# Metrics \n",
        "print_metrics(y_bag, y_test)"
      ],
      "execution_count": null,
      "outputs": [
        {
          "output_type": "stream",
          "name": "stdout",
          "text": [
            "Accuracy= 0.9858 \n",
            "Balanced Accuracy = 0.9233 \n",
            "TP =  40 FP =  3 TN  =  656 FN =  7 \n",
            "Precision= 0.9302 \n",
            "Recall= 0.8511 \n",
            "F1 Score= 0.8889 \n",
            "AUC= 0.9233\n"
          ]
        }
      ]
    },
    {
      "cell_type": "markdown",
      "metadata": {
        "id": "dML3tZ2Srqih"
      },
      "source": [
        "#### Random Forest"
      ]
    },
    {
      "cell_type": "code",
      "metadata": {
        "colab": {
          "base_uri": "https://localhost:8080/"
        },
        "id": "TOLPaGFDrsOk",
        "outputId": "a01c3cb4-b983-4812-a32c-08bf1c4348b3"
      },
      "source": [
        "rf = RandomForestClassifier(random_state=0)\n",
        "rf_fit = rf.fit(x_train, y_train)\n",
        "pred_rf = rf_fit.predict_proba(x_test)\n",
        "\n",
        "y_rf=np.argmax(pred_rf,axis=1)\n",
        "\n",
        "# Metrics \n",
        "print_metrics(y_rf,y_test)"
      ],
      "execution_count": null,
      "outputs": [
        {
          "output_type": "stream",
          "name": "stdout",
          "text": [
            "Accuracy= 0.9873 \n",
            "Balanced Accuracy = 0.9141 \n",
            "TP =  39 FP =  1 TN  =  658 FN =  8 \n",
            "Precision= 0.975 \n",
            "Recall= 0.8298 \n",
            "F1 Score= 0.8966 \n",
            "AUC= 0.9141\n"
          ]
        }
      ]
    },
    {
      "cell_type": "markdown",
      "metadata": {
        "id": "Na38nAnTrzsh"
      },
      "source": [
        "### Model Performance Summary "
      ]
    },
    {
      "cell_type": "code",
      "metadata": {
        "colab": {
          "base_uri": "https://localhost:8080/",
          "height": 235
        },
        "id": "pK7ehYxRr5HN",
        "outputId": "49d87c49-3579-4c6b-b751-6eabb63be90a"
      },
      "source": [
        "models = ['Naive Bayes', 'LDA', 'Logistic Regression', 'KNN', 'Decision Tree', 'Bagging', 'Random Forest']\n",
        "rows_names = ['Accuracy', 'Balanced Accuracy', 'Precision', 'Recall', 'F1 Score','AUC']\n",
        "y_vector = [y_bayes, y_lda, y_logr, y_knn, y_tree, y_bag, y_rf]\n",
        "accuracy_vector = [round(metrics.accuracy_score(y_test, y),4) for y in y_vector]\n",
        "b_accuracy_vector = [round(balanced_accuracy_score(y_test,y),4) for y in y_vector]\n",
        "precision_vector = [round(metrics.precision_score(y_test, y),4) for y in y_vector]\n",
        "recall_vector = [round(metrics.recall_score(y_test, y),4) for y in y_vector]\n",
        "f1_vector = [round(metrics.f1_score(y_test, y),4) for y in y_vector]\n",
        "auc_vector = [round(roc_auc_score(y_test, y),4) for y in y_vector]\n",
        "summary_df = pd.DataFrame([accuracy_vector,b_accuracy_vector,precision_vector,recall_vector,f1_vector, auc_vector])\n",
        "summary_df.columns = models\n",
        "summary_df.index = rows_names\n",
        "summary_df"
      ],
      "execution_count": null,
      "outputs": [
        {
          "output_type": "execute_result",
          "data": {
            "text/html": [
              "<div>\n",
              "<style scoped>\n",
              "    .dataframe tbody tr th:only-of-type {\n",
              "        vertical-align: middle;\n",
              "    }\n",
              "\n",
              "    .dataframe tbody tr th {\n",
              "        vertical-align: top;\n",
              "    }\n",
              "\n",
              "    .dataframe thead th {\n",
              "        text-align: right;\n",
              "    }\n",
              "</style>\n",
              "<table border=\"1\" class=\"dataframe\">\n",
              "  <thead>\n",
              "    <tr style=\"text-align: right;\">\n",
              "      <th></th>\n",
              "      <th>Naive Bayes</th>\n",
              "      <th>LDA</th>\n",
              "      <th>Logistic Regression</th>\n",
              "      <th>KNN</th>\n",
              "      <th>Decision Tree</th>\n",
              "      <th>Bagging</th>\n",
              "      <th>Random Forest</th>\n",
              "    </tr>\n",
              "  </thead>\n",
              "  <tbody>\n",
              "    <tr>\n",
              "      <th>Accuracy</th>\n",
              "      <td>0.9547</td>\n",
              "      <td>0.9873</td>\n",
              "      <td>0.9887</td>\n",
              "      <td>0.9873</td>\n",
              "      <td>0.9844</td>\n",
              "      <td>0.9858</td>\n",
              "      <td>0.9873</td>\n",
              "    </tr>\n",
              "    <tr>\n",
              "      <th>Balanced Accuracy</th>\n",
              "      <td>0.9362</td>\n",
              "      <td>0.9141</td>\n",
              "      <td>0.9347</td>\n",
              "      <td>0.9043</td>\n",
              "      <td>0.9126</td>\n",
              "      <td>0.9233</td>\n",
              "      <td>0.9141</td>\n",
              "    </tr>\n",
              "    <tr>\n",
              "      <th>Precision</th>\n",
              "      <td>0.6056</td>\n",
              "      <td>0.9750</td>\n",
              "      <td>0.9535</td>\n",
              "      <td>1.0000</td>\n",
              "      <td>0.9286</td>\n",
              "      <td>0.9302</td>\n",
              "      <td>0.9750</td>\n",
              "    </tr>\n",
              "    <tr>\n",
              "      <th>Recall</th>\n",
              "      <td>0.9149</td>\n",
              "      <td>0.8298</td>\n",
              "      <td>0.8723</td>\n",
              "      <td>0.8085</td>\n",
              "      <td>0.8298</td>\n",
              "      <td>0.8511</td>\n",
              "      <td>0.8298</td>\n",
              "    </tr>\n",
              "    <tr>\n",
              "      <th>F1 Score</th>\n",
              "      <td>0.7288</td>\n",
              "      <td>0.8966</td>\n",
              "      <td>0.9111</td>\n",
              "      <td>0.8941</td>\n",
              "      <td>0.8764</td>\n",
              "      <td>0.8889</td>\n",
              "      <td>0.8966</td>\n",
              "    </tr>\n",
              "    <tr>\n",
              "      <th>AUC</th>\n",
              "      <td>0.9362</td>\n",
              "      <td>0.9141</td>\n",
              "      <td>0.9347</td>\n",
              "      <td>0.9043</td>\n",
              "      <td>0.9126</td>\n",
              "      <td>0.9233</td>\n",
              "      <td>0.9141</td>\n",
              "    </tr>\n",
              "  </tbody>\n",
              "</table>\n",
              "</div>"
            ],
            "text/plain": [
              "                   Naive Bayes     LDA  ...  Bagging  Random Forest\n",
              "Accuracy                0.9547  0.9873  ...   0.9858         0.9873\n",
              "Balanced Accuracy       0.9362  0.9141  ...   0.9233         0.9141\n",
              "Precision               0.6056  0.9750  ...   0.9302         0.9750\n",
              "Recall                  0.9149  0.8298  ...   0.8511         0.8298\n",
              "F1 Score                0.7288  0.8966  ...   0.8889         0.8966\n",
              "AUC                     0.9362  0.9141  ...   0.9233         0.9141\n",
              "\n",
              "[6 rows x 7 columns]"
            ]
          },
          "metadata": {},
          "execution_count": 40
        }
      ]
    },
    {
      "cell_type": "markdown",
      "metadata": {
        "id": "zxJ7Ns6HKsZd"
      },
      "source": [
        "#### The previous table gives us a rough feeling for how these methods perform, because it takes into consideration only a single train-test split of our data. To get a better idea of their actual performences we will use cross validation."
      ]
    },
    {
      "cell_type": "markdown",
      "metadata": {
        "id": "__03w9djr7j4"
      },
      "source": [
        "## Corss-Validation"
      ]
    },
    {
      "cell_type": "code",
      "metadata": {
        "id": "FilYXOvtsEEi"
      },
      "source": [
        "models2 = ['GNB', 'LR', 'LDA', 'KNN','D. Tree','Bagging', 'R. Forest']\n",
        "classifiers = [GaussianNB(),LogisticRegression(),LinearDiscriminantAnalysis(),\n",
        "              KNeighborsClassifier(n_neighbors = 4),DecisionTreeClassifier(),\n",
        "              BaggingClassifier(base_estimator=DecisionTreeClassifier()),RandomForestClassifier()]"
      ],
      "execution_count": null,
      "outputs": []
    },
    {
      "cell_type": "markdown",
      "metadata": {
        "id": "w4hEjePPsSfv"
      },
      "source": [
        "### Recall Comparison"
      ]
    },
    {
      "cell_type": "code",
      "metadata": {
        "colab": {
          "base_uri": "https://localhost:8080/",
          "height": 263
        },
        "id": "uFfaY-dPsUqI",
        "outputId": "3aa9d765-933e-4c2c-9e4b-51a5c6a4a6b4"
      },
      "source": [
        "box_cross_validation('recall', models2, classifiers)"
      ],
      "execution_count": null,
      "outputs": [
        {
          "output_type": "display_data",
          "data": {
            "image/png": "[encoded data removed]",
            "text/plain": [
              "<Figure size 432x252 with 1 Axes>"
            ]
          },
          "metadata": {
            "needs_background": "light"
          }
        }
      ]
    },
    {
      "cell_type": "markdown",
      "metadata": {
        "id": "q2cADp4-QBB0"
      },
      "source": [
        "### Comment\n",
        "\n",
        "Surprisingly, the Naive Bayes classifier displays the best recall."
      ]
    },
    {
      "cell_type": "markdown",
      "metadata": {
        "id": "NBULqebdHJui"
      },
      "source": [
        "## F1 comparison"
      ]
    },
    {
      "cell_type": "code",
      "metadata": {
        "colab": {
          "base_uri": "https://localhost:8080/",
          "height": 263
        },
        "id": "d9YHVfdHFeCy",
        "outputId": "b50443ab-fbc5-4e37-f2e3-baa34c365f30"
      },
      "source": [
        "warnings.filterwarnings(\"ignore\")\n",
        "box_cross_validation('f1', models2, classifiers)"
      ],
      "execution_count": null,
      "outputs": [
        {
          "output_type": "display_data",
          "data": {
            "image/png": "[encoded data removed]",
            "text/plain": [
              "<Figure size 432x252 with 1 Axes>"
            ]
          },
          "metadata": {
            "needs_background": "light"
          }
        }
      ]
    },
    {
      "cell_type": "code",
      "metadata": {
        "colab": {
          "base_uri": "https://localhost:8080/",
          "height": 263
        },
        "id": "oKVsoZ7HQQkj",
        "outputId": "e052c270-45f7-433e-97f3-d84d1be57ab4"
      },
      "source": [
        "warnings.filterwarnings(\"ignore\")\n",
        "box_cross_validation('roc_auc', models2, classifiers)"
      ],
      "execution_count": null,
      "outputs": [
        {
          "output_type": "display_data",
          "data": {
            "image/png": "[encoded data removed]",
            "text/plain": [
              "<Figure size 432x252 with 1 Axes>"
            ]
          },
          "metadata": {
            "needs_background": "light"
          }
        }
      ]
    },
    {
      "cell_type": "markdown",
      "metadata": {
        "id": "7Czs1JFqCZAA"
      },
      "source": [
        "## Comment about under-sampling\n",
        "\n",
        "Under-sampling represents a way in which we could create a balanced dataset out of our imbalanced one. However, as the rare class has only 200 samples and knowing that we have around 90 features this approach would result in underfitting. We could reduce the features, but we have no further information about the features to decide which ones are more relevant. Thus, we choose to not use a under-sampling approach."
      ]
    },
    {
      "cell_type": "markdown",
      "metadata": {
        "id": "NPaCCERwKZeF"
      },
      "source": [
        "# Dealing with the Data Imbalance using ensemble methods\n",
        "\n",
        "In the next section we are going to balance our data set and use bagging to aggregate different learners in order to obtain an enseble model.\n",
        "The BalancedBaggingClassifier offers this option by first creating balanced datasets and then using them in the bagging process."
      ]
    },
    {
      "cell_type": "markdown",
      "metadata": {
        "id": "PaEq-A42Knfa"
      },
      "source": [
        "### Balenced Bagging - NBayes"
      ]
    },
    {
      "cell_type": "code",
      "metadata": {
        "colab": {
          "base_uri": "https://localhost:8080/"
        },
        "id": "8oqHOpNPMQdX",
        "outputId": "f083aa6b-4b4e-4f8f-fa50-3b1a4bf5b001"
      },
      "source": [
        "bagged_Nbays = BalancedBaggingClassifier(base_estimator =GaussianNB() )\n",
        "\n",
        "cv = RepeatedStratifiedKFold(n_splits=10, n_repeats=3, random_state=1)\n",
        "\n",
        "scores1_NBayes = cross_val_score(bagged_Nbays, x, y, scoring='roc_auc', cv=cv, n_jobs=-1)\n",
        "scores2_NBayes = cross_val_score(bagged_Nbays, x, y, scoring='f1', cv=cv, n_jobs=-1)\n",
        "scores3_NBayes = cross_val_score(bagged_Nbays, x, y, scoring='balanced_accuracy', cv=cv, n_jobs=-1)\n",
        "scores4_NBayes = cross_val_score(bagged_Nbays, x, y, scoring='recall', cv=cv, n_jobs=-1)\n",
        "\n",
        "print('Mean ROC AUC for bagged NBayes: %.3f' % np.mean(scores1_NBayes), '\\n')\n",
        "print('Mean F1 for bagged NBayes: %.3f' % np.mean(scores2_NBayes), '\\n')\n",
        "print('Mean balanced accuracy for bagged Nbayes: %.3f' % np.mean(scores3_NBayes), '\\n')\n",
        "print('Mean Recall for bagged Nbayes: %.3f' % np.mean(scores4_NBayes), '\\n')\n",
        "\n"
      ],
      "execution_count": null,
      "outputs": [
        {
          "output_type": "stream",
          "name": "stdout",
          "text": [
            "Mean ROC AUC for bagged NBayes: 0.974 \n",
            "\n",
            "Mean F1 for bagged NBayes: 0.757 \n",
            "\n",
            "Mean balanced accuracy for bagged Nbayes: 0.950 \n",
            "\n",
            "Mean Recall for bagged Nbayes: 0.949 \n",
            "\n"
          ]
        }
      ]
    },
    {
      "cell_type": "markdown",
      "metadata": {
        "id": "7xX9mzJnMtJ8"
      },
      "source": [
        "## Balanced Bagging - Linear Discriminant Analysis"
      ]
    },
    {
      "cell_type": "code",
      "metadata": {
        "colab": {
          "base_uri": "https://localhost:8080/"
        },
        "id": "e7faJHW8Mw9q",
        "outputId": "75f0e134-d446-4afe-d1de-199895432543"
      },
      "source": [
        "\n",
        "bagged_LDA = BalancedBaggingClassifier(base_estimator =LinearDiscriminantAnalysis() )\n",
        "\n",
        "cv = RepeatedStratifiedKFold(n_splits=10, n_repeats=3, random_state=1)\n",
        "\n",
        "scores1_LDA = cross_val_score(bagged_LDA, x, y, scoring='roc_auc', cv=cv, n_jobs=-1)\n",
        "scores2_LDA = cross_val_score(bagged_LDA, x, y, scoring='f1', cv=cv, n_jobs=-1)\n",
        "scores3_LDA = cross_val_score(bagged_LDA, x, y, scoring='balanced_accuracy', cv=cv, n_jobs=-1)\n",
        "scores4_LDA = cross_val_score(bagged_LDA, x, y, scoring='balanced_accuracy', cv=cv, n_jobs=-1)\n",
        "\n",
        "print('Mean ROC AUC for bagged LDA: %.3f' % np.mean(scores1_LDA), '\\n')\n",
        "print('Mean F1 for bagged LDA: %.3f' % np.mean(scores2_LDA), '\\n')\n",
        "print('Mean balanced accuracy for bagged LDA: %.3f' % np.mean(scores3_LDA), '\\n')\n",
        "print('Mean Recall for bagged LDA: %.3f' % np.mean(scores4_LDA), '\\n')\n",
        "\n"
      ],
      "execution_count": null,
      "outputs": [
        {
          "output_type": "stream",
          "name": "stdout",
          "text": [
            "Mean ROC AUC for bagged LDA: 0.975 \n",
            "\n",
            "Mean F1 for bagged LDA: 0.871 \n",
            "\n",
            "Mean balanced accuracy for bagged LDA: 0.965 \n",
            "\n",
            "Mean Recall for bagged LDA: 0.962 \n",
            "\n"
          ]
        }
      ]
    },
    {
      "cell_type": "markdown",
      "metadata": {
        "id": "WEuIIBMqNY_p"
      },
      "source": [
        "## Balance Bagging -  Logistic Regression"
      ]
    },
    {
      "cell_type": "code",
      "metadata": {
        "colab": {
          "base_uri": "https://localhost:8080/"
        },
        "id": "64Wx9A-hNbSg",
        "outputId": "5be898df-a7c0-4c04-be93-74e4f9077ddf"
      },
      "source": [
        "\n",
        "bagged_LR = BalancedBaggingClassifier(base_estimator =LogisticRegression() )\n",
        "\n",
        "cv = RepeatedStratifiedKFold(n_splits=10, n_repeats=3, random_state=1)\n",
        "\n",
        "scores1_LR = cross_val_score(bagged_LR, x, y, scoring='roc_auc', cv=cv, n_jobs=-1)\n",
        "scores2_LR = cross_val_score(bagged_LR, x, y, scoring='f1', cv=cv, n_jobs=-1)\n",
        "scores3_LR = cross_val_score(bagged_LR, x, y, scoring='balanced_accuracy', cv=cv, n_jobs=-1)\n",
        "scores4_LR = cross_val_score(bagged_LR, x, y, scoring='recall', cv=cv, n_jobs=-1)\n",
        "\n",
        "\n",
        "\n",
        "print('Mean ROC AUC for bagged LR: %.3f' % np.mean(scores1_LR), '\\n')\n",
        "print('Mean F1 for bagged LR: %.3f' % np.mean(scores2_LR), '\\n')\n",
        "print('Mean balanced accuracy for bagged LR: %.3f' % np.mean(scores3_LR), '\\n')\n",
        "print('Mean Recall for bagged LR: %.3f' % np.mean(scores4_LR), '\\n')\n",
        "\n",
        "\n"
      ],
      "execution_count": null,
      "outputs": [
        {
          "output_type": "stream",
          "name": "stdout",
          "text": [
            "Mean ROC AUC for bagged LR: 0.986 \n",
            "\n",
            "Mean F1 for bagged LR: 0.879 \n",
            "\n",
            "Mean balanced accuracy for bagged LR: 0.964 \n",
            "\n",
            "Mean Recall for bagged LR: 0.947 \n",
            "\n"
          ]
        }
      ]
    },
    {
      "cell_type": "markdown",
      "metadata": {
        "id": "rjXkYc33NmXh"
      },
      "source": [
        "## Balenced Bagging - KNN"
      ]
    },
    {
      "cell_type": "code",
      "metadata": {
        "colab": {
          "base_uri": "https://localhost:8080/"
        },
        "id": "Gl3O5p90Npkk",
        "outputId": "2741f8fb-8990-47eb-b25f-5ab912dc3cff"
      },
      "source": [
        "\n",
        "bagged_KNN = BalancedBaggingClassifier(base_estimator =KNeighborsClassifier() )\n",
        "\n",
        "cv = RepeatedStratifiedKFold(n_splits=10, n_repeats=3, random_state=1)\n",
        "\n",
        "scores1_KNN = cross_val_score(bagged_KNN, x, y, scoring='roc_auc', cv=cv, n_jobs=-1)\n",
        "scores2_KNN = cross_val_score(bagged_KNN, x, y, scoring='f1', cv=cv, n_jobs=-1)\n",
        "scores3_KNN = cross_val_score(bagged_KNN, x, y, scoring='balanced_accuracy', cv=cv, n_jobs=-1)\n",
        "scores4_KNN = cross_val_score(bagged_KNN, x, y, scoring='recall', cv=cv, n_jobs=-1)\n",
        "\n",
        "\n",
        "\n",
        "print('Mean ROC AUC for bagged KNN: %.3f' % np.mean(scores1_KNN), '\\n')\n",
        "print('Mean F1 for bagged KNN: %.3f' % np.mean(scores2_KNN), '\\n')\n",
        "print('Mean balanced accuracy for bagged KNN: %.3f' % np.mean(scores3_KNN), '\\n')\n",
        "print('Mean Recall for bagged KNN: %.3f' % np.mean(scores4_KNN), '\\n')\n",
        "\n"
      ],
      "execution_count": null,
      "outputs": [
        {
          "output_type": "stream",
          "name": "stdout",
          "text": [
            "Mean ROC AUC for bagged KNN: 0.988 \n",
            "\n",
            "Mean F1 for bagged KNN: 0.843 \n",
            "\n",
            "Mean balanced accuracy for bagged KNN: 0.960 \n",
            "\n",
            "Mean Recall for bagged KNN: 0.946 \n",
            "\n"
          ]
        }
      ]
    },
    {
      "cell_type": "markdown",
      "metadata": {
        "id": "eWZzbKr8OD7y"
      },
      "source": [
        "## Balanced Bagging - Decission trees"
      ]
    },
    {
      "cell_type": "code",
      "metadata": {
        "colab": {
          "base_uri": "https://localhost:8080/"
        },
        "id": "tFNzPrnwN3n_",
        "outputId": "05c78c2a-bb19-4fd7-c94e-43a1ae9b7e13"
      },
      "source": [
        "bagged_DT = BalancedBaggingClassifier()\n",
        "\n",
        "cv = RepeatedStratifiedKFold(n_splits=10, n_repeats=3, random_state=1)\n",
        "\n",
        "scores1_DT = cross_val_score(bagged_DT, x, y, scoring='roc_auc', cv=cv, n_jobs=-1)\n",
        "scores2_DT = cross_val_score(bagged_DT, x, y, scoring='f1', cv=cv, n_jobs=-1)\n",
        "scores3_DT = cross_val_score(bagged_DT, x, y, scoring='balanced_accuracy', cv=cv, n_jobs=-1)\n",
        "scores4_DT = cross_val_score(bagged_DT, x, y, scoring='recall', cv=cv, n_jobs=-1)\n",
        "\n",
        "\n",
        "\n",
        "print('Mean ROC AUC for bagged DT: %.3f' % np.mean(scores1_DT), '\\n')\n",
        "print('Mean F1 for bagged DT: %.3f' % np.mean(scores2_DT), '\\n')\n",
        "print('Mean balanced accuracy for bagged DT: %.3f' % np.mean(scores3_DT), '\\n')\n",
        "print('Mean Recall for bagged DT: %.3f' % np.mean(scores4_DT), '\\n')\n"
      ],
      "execution_count": null,
      "outputs": [
        {
          "output_type": "stream",
          "name": "stdout",
          "text": [
            "Mean ROC AUC for bagged DT: 0.980 \n",
            "\n",
            "Mean F1 for bagged DT: 0.874 \n",
            "\n",
            "Mean balanced accuracy for bagged DT: 0.958 \n",
            "\n",
            "Mean Recall for bagged DT: 0.932 \n",
            "\n"
          ]
        }
      ]
    },
    {
      "cell_type": "markdown",
      "metadata": {
        "id": "TbtTvH_JzEtL"
      },
      "source": [
        "## Balanced Random Forest\n",
        "\n",
        "Random Forest is inherently an ensemble method and we already observed that it perfomed fairly well in the previous section. Similar to the BalancedBaggingClassifier we can devide the dataset in balanced subsamples using the 'class_weight' function of the sklearn.RandomForestClassifier.\n"
      ]
    },
    {
      "cell_type": "code",
      "metadata": {
        "id": "flG5Ma8vzDx_",
        "colab": {
          "base_uri": "https://localhost:8080/"
        },
        "outputId": "c8231744-ba07-450e-c8fc-b22a89ba4519"
      },
      "source": [
        "RF_balanced = RandomForestClassifier(n_estimators=15, class_weight='balanced_subsample')\n",
        "\n",
        "cv = RepeatedStratifiedKFold(n_splits=10, n_repeats=3, random_state=1)\n",
        "\n",
        "scores1_DT = cross_val_score(RF_balanced, x, y, scoring='roc_auc', cv=cv, n_jobs=-1)\n",
        "scores2_DT = cross_val_score(RF_balanced, x, y, scoring='f1', cv=cv, n_jobs=-1)\n",
        "scores3_DT = cross_val_score(RF_balanced, x, y, scoring='balanced_accuracy', cv=cv, n_jobs=-1)\n",
        "scores4_DT = cross_val_score(RF_balanced, x, y, scoring='recall', cv=cv, n_jobs=-1)\n",
        "\n",
        "\n",
        "  \n",
        "print('Mean ROC AUC for ballanced RF: %.3f' % np.mean(scores1_DT), '\\n')\n",
        "print('Mean F1 for ballanced RF: %.3f' % np.mean(scores2_DT), '\\n')\n",
        "print('Mean balanced accuracy for ballanced RF: %.3f' % np.mean(scores3_DT), '\\n')\n",
        "print('Mean Recall for ballanced RF: %.3f' % np.mean(scores4_DT), '\\n')"
      ],
      "execution_count": null,
      "outputs": [
        {
          "output_type": "stream",
          "name": "stdout",
          "text": [
            "Mean ROC AUC for ballanced RF: 0.980 \n",
            "\n",
            "Mean F1 for ballanced RF: 0.925 \n",
            "\n",
            "Mean balanced accuracy for ballanced RF: 0.941 \n",
            "\n",
            "Mean Recall for ballanced RF: 0.884 \n",
            "\n"
          ]
        }
      ]
    },
    {
      "cell_type": "markdown",
      "metadata": {
        "id": "eWHvYIF8LSyy"
      },
      "source": [
        "## Let's use boxplots to look at the previous statistics."
      ]
    },
    {
      "cell_type": "code",
      "metadata": {
        "id": "-X9PXm3_uZJX"
      },
      "source": [
        "classifiers2 = [BalancedBaggingClassifier(base_estimator =GaussianNB()),\n",
        "                BalancedBaggingClassifier(base_estimator =LogisticRegression()), \n",
        "                BalancedBaggingClassifier(base_estimator =LinearDiscriminantAnalysis()),\n",
        "                BalancedBaggingClassifier(base_estimator =KNeighborsClassifier()),\n",
        "                BalancedBaggingClassifier(),\n",
        "                RandomForestClassifier(n_estimators=15, class_weight='balanced_subsample')]\n",
        "models3 = ['B_GNB', 'B_LR', 'B_LDA', 'B_KNN', 'B_DT', 'B_RF']"
      ],
      "execution_count": null,
      "outputs": []
    },
    {
      "cell_type": "code",
      "metadata": {
        "id": "V9Lt8F9uQnfH"
      },
      "source": [
        "\n",
        "box_cross_validation('recall', models3, classifiers2)\n"
      ],
      "execution_count": null,
      "outputs": []
    },
    {
      "cell_type": "markdown",
      "metadata": {
        "id": "xIm0WU_5RNHQ"
      },
      "source": [
        "We now plotted some boxgraphs using cross validation for a reapeated stratified 10-fold. The results for recall look similar for all the used ensemble methods.\n",
        "We observe that bagging our models results in a higher True Positive Rate, \n"
      ]
    },
    {
      "cell_type": "code",
      "metadata": {
        "colab": {
          "base_uri": "https://localhost:8080/",
          "height": 264
        },
        "id": "Aal4rNWyMvzB",
        "outputId": "70fa5d1c-f611-4742-d767-9e569e432092"
      },
      "source": [
        "box_cross_validation('f1', models3, classifiers2)\n"
      ],
      "execution_count": null,
      "outputs": [
        {
          "output_type": "display_data",
          "data": {
            "image/png": "[encoded data removed]",
            "text/plain": [
              "<Figure size 396x252 with 1 Axes>"
            ]
          },
          "metadata": {
            "needs_background": "light"
          }
        }
      ]
    },
    {
      "cell_type": "markdown",
      "metadata": {
        "id": "XryEt3pmRZej"
      },
      "source": [
        "Watching the F1 score, we see a considerable difference between the bagged Naive Bayes classifer and the rest of the used methods. Another interesting aspect is that the balanced Random Forest has the best F1 score wheras it had the poorest Recall score, but not considerably worse.\n"
      ]
    },
    {
      "cell_type": "code",
      "metadata": {
        "colab": {
          "base_uri": "https://localhost:8080/",
          "height": 264
        },
        "id": "zXmv3Bi6Q895",
        "outputId": "84255a79-e762-43c8-81f3-71f602587afe"
      },
      "source": [
        "box_cross_validation('roc_auc', models3, classifiers2)\n"
      ],
      "execution_count": null,
      "outputs": [
        {
          "output_type": "display_data",
          "data": {
            "image/png": "[encoded data removed]",
            "text/plain": [
              "<Figure size 396x252 with 1 Axes>"
            ]
          },
          "metadata": {
            "needs_background": "light"
          }
        }
      ]
    },
    {
      "cell_type": "markdown",
      "metadata": {
        "id": "zgRqp9LlWTRb"
      },
      "source": [
        "Watching our results we consider that the used ensemble methods are worthy of further investigation for our given problem. However, we would probably drop the Bagged Naive Bayes classifier due to its poor precision score. Judging by our Recall score we would prefer the bagged Logistic Regression and we would pick the Balanced Random Forest if we wanted a better F1 score.\n"
      ]
    }
  ]
}